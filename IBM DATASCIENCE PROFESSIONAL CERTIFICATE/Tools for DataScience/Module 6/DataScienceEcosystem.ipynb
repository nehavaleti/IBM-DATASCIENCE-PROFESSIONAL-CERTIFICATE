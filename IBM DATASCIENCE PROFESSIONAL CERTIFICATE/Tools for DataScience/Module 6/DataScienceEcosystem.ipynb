{
 "cells": [
  {
   "cell_type": "markdown",
   "id": "b94f1517-2c33-4d83-b018-d25dc19f44d6",
   "metadata": {},
   "source": [
    "<h1>Data Science Tools and Ecosystem</h1>"
   ]
  },
  {
   "cell_type": "markdown",
   "id": "7bbf24eb-b9f5-44de-8ded-f7af58355d79",
   "metadata": {},
   "source": [
    "## In this notebook, Data Science Tools and Ecosystem are Summarised"
   ]
  },
  {
   "cell_type": "markdown",
   "id": "aaecd277-875c-4b43-bb86-e26e4b3ebbcb",
   "metadata": {},
   "source": [
    "### Objectives:\n",
    "- List popular languages for Data Science\n",
    "- List commonly used libraries used by DataScientists\n",
    "- Tabulate Some Data Science Tools\n",
    "- Provide Examples for evaluating arithmetic expressions"
   ]
  },
  {
   "cell_type": "markdown",
   "id": "19fb295d-6e83-4a47-9110-c0d02dd98e64",
   "metadata": {},
   "source": [
    "Some of the popular languages that Data Scientists use are:\n",
    "1. Python\n",
    "2. R\n",
    "3. SQL"
   ]
  },
  {
   "cell_type": "markdown",
   "id": "a31e7a26-e0e9-44a7-940d-ec9031533294",
   "metadata": {},
   "source": [
    "Some of the commonly used libraries used by Data Scientists include:\n",
    "1. Numpy\n",
    "2. Pandas\n",
    "3. Matplotlib\n",
    "4. Seaborn\n",
    "5. Sci-py"
   ]
  },
  {
   "cell_type": "markdown",
   "id": "84d01241-e6f8-4d2a-94d1-86241e2ed0ef",
   "metadata": {},
   "source": [
    "| DataScience Tools |\n",
    "| :---------------: |\n",
    "| Jupyter Notebook |\n",
    "| R-Studio |\n",
    "| IBM WatSon Studio |   |"
   ]
  },
  {
   "cell_type": "markdown",
   "id": "156494c8-995a-418d-9445-ada40a1056a0",
   "metadata": {},
   "source": [
    "<h3>Below are a few examples of evaluating arithmetic expressions in Python</h3>"
   ]
  },
  {
   "cell_type": "code",
   "execution_count": 22,
   "id": "20261722-96e8-4518-bebd-77efd57c3153",
   "metadata": {},
   "outputs": [
    {
     "data": {
      "text/plain": [
       "17"
      ]
     },
     "execution_count": 22,
     "metadata": {},
     "output_type": "execute_result"
    }
   ],
   "source": [
    "#This a simple arithmetic expression to mutiply then add integers\n",
    "\n",
    "(3*4)+5"
   ]
  },
  {
   "cell_type": "code",
   "execution_count": 24,
   "id": "d27a465c-d450-428f-b0ba-4ceeac6cd2f8",
   "metadata": {},
   "outputs": [
    {
     "data": {
      "text/plain": [
       "3.3333333333333335"
      ]
     },
     "execution_count": 24,
     "metadata": {},
     "output_type": "execute_result"
    }
   ],
   "source": [
    "#This will convert 200 minutes to hours by diving by 60\n",
    "\n",
    "(200/60)"
   ]
  },
  {
   "cell_type": "code",
   "execution_count": null,
   "id": "730a8957-568d-47ad-88a9-18864bcf38bc",
   "metadata": {},
   "outputs": [],
   "source": []
  }
 ],
 "metadata": {
  "kernelspec": {
   "display_name": "Python 3 (ipykernel)",
   "language": "python",
   "name": "python3"
  },
  "language_info": {
   "codemirror_mode": {
    "name": "ipython",
    "version": 3
   },
   "file_extension": ".py",
   "mimetype": "text/x-python",
   "name": "python",
   "nbconvert_exporter": "python",
   "pygments_lexer": "ipython3",
   "version": "3.12.4"
  }
 },
 "nbformat": 4,
 "nbformat_minor": 5
}
